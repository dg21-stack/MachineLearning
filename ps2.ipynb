{
 "cells": [
  {
   "cell_type": "code",
   "execution_count": 12,
   "metadata": {},
   "outputs": [],
   "source": [
    "import numpy as np \n",
    "from numpy import linalg"
   ]
  },
  {
   "cell_type": "code",
   "execution_count": 13,
   "metadata": {},
   "outputs": [],
   "source": [
    "def areweDoneYet(oldC, c):\n",
    "    return np.linalg.norm(c - oldC) < 0.001\n"
   ]
  },
  {
   "cell_type": "code",
   "execution_count": 39,
   "metadata": {},
   "outputs": [],
   "source": [
    "def gradDescentForL(A,b,oldC,lam = 0.1):\n",
    "    c = oldC - lam * (2 *np.transpose(A)@A@oldC + b)\n",
    "    iterNum = 1\n",
    "    print(A, np.transpose(A))\n",
    "    while not areweDoneYet(oldC,c):\n",
    "        oldC = c\n",
    "        c =oldC - lam * (2 *np.transpose(A)@A@oldC + b)\n",
    "        iterNum+=1\n",
    "        # print(np.linalg.norm(oldC - c))\n",
    "        # print(iterNum)\n",
    "    return iterNum,c"
   ]
  },
  {
   "cell_type": "code",
   "execution_count": 40,
   "metadata": {},
   "outputs": [
    {
     "name": "stdout",
     "output_type": "stream",
     "text": [
      "[[1]\n",
      " [2]]\n",
      "[[1 0]\n",
      " [0 1]] [[1 0]\n",
      " [0 1]]\n",
      "The number of iterations:  31 \n",
      " The value of c [[ 1.49950482]\n",
      " [-1.99603859]]\n"
     ]
    }
   ],
   "source": [
    "A = np.array([[1,0],\n",
    "[0,1]])\n",
    "b = np.array([[-3],\n",
    "[4]])\n",
    "oldC = np.array([[1],\n",
    "[2]])\n",
    "print(oldC)\n",
    "result = gradDescentForL(A,b,oldC)\n",
    "print('The number of iterations: ',result[0], '\\n The value of c',result[1])"
   ]
  },
  {
   "cell_type": "code",
   "execution_count": 1,
   "metadata": {},
   "outputs": [
    {
     "name": "stdout",
     "output_type": "stream",
     "text": [
      "[[1.799e+01 1.038e+01 1.228e+02 ... 2.654e-01 4.601e-01 1.189e-01]\n",
      " [2.057e+01 1.777e+01 1.329e+02 ... 1.860e-01 2.750e-01 8.902e-02]\n",
      " [1.969e+01 2.125e+01 1.300e+02 ... 2.430e-01 3.613e-01 8.758e-02]\n",
      " ...\n",
      " [1.660e+01 2.808e+01 1.083e+02 ... 1.418e-01 2.218e-01 7.820e-02]\n",
      " [2.060e+01 2.933e+01 1.401e+02 ... 2.650e-01 4.087e-01 1.240e-01]\n",
      " [7.760e+00 2.454e+01 4.792e+01 ... 0.000e+00 2.871e-01 7.039e-02]]\n"
     ]
    },
    {
     "data": {
      "image/png": "[encoded data removed]",
      "text/plain": [
       "<Figure size 640x480 with 1 Axes>"
      ]
     },
     "metadata": {},
     "output_type": "display_data"
    }
   ],
   "source": [
    "import sklearn\n",
    "from sklearn.neighbors import KNeighborsClassifier\n",
    "from sklearn.model_selection import cross_val_score\n",
    "from sklearn.datasets import load_breast_cancer\n",
    "from sklearn.model_selection import train_test_split\n",
    "import matplotlib.pyplot as plt \n",
    "\n",
    "X,y = load_breast_cancer(return_X_y = True)\n",
    "# X_train,X_test, y_train,y_test = train_test_split(X,y)\n",
    "d = 6\n",
    "print(X)\n",
    "OUT_model_score = []\n",
    "IN_model_score = []\n",
    "for values in range(0,d+1):\n",
    "    model = KNeighborsClassifier(n_neighbors = 2 ** values)\n",
    "    model.fit(X,y)\n",
    "    IN_model_score.append(1 - model.score(X,y))\n",
    "    scores = cross_val_score(model,X,y)\n",
    "    OUT_model_score.append(1- scores.mean())\n",
    "\n",
    "plt.plot(range(0,d+1),IN_model_score, \"-b\", label = 'insample')\n",
    "plt.plot(range(0,d+1),OUT_model_score,\"-r\", label = 'outsample')\n",
    "plt.xlabel('n_neighbors')\n",
    "plt.ylabel('error')\n",
    "plt.show()\n",
    "\n",
    "\n",
    "    \n"
   ]
  },
  {
   "cell_type": "code",
   "execution_count": 34,
   "metadata": {},
   "outputs": [
    {
     "name": "stdout",
     "output_type": "stream",
     "text": [
      "|   vc dimension |   rule of thumb |   actual N |\n",
      "|----------------|-----------------|------------|\n",
      "|              1 |              10 |    2436.07 |\n",
      "|              3 |              30 |    6413.28 |\n",
      "|             10 |             100 |   22133.6  |\n",
      "|             30 |             300 |   72003.2  |\n"
     ]
    }
   ],
   "source": [
    "from tabulate import tabulate\n",
    "eps = 0.2\n",
    "conf = 0.9\n",
    "delta = 0.1\n",
    "dvc = [1,3,10,30]\n",
    "oldN = 0\n",
    "res = []\n",
    "fake_res = []\n",
    "for values in dvc:\n",
    "    N = values\n",
    "    while int(N) != int(oldN):\n",
    "        oldN = N\n",
    "        N = (8 / (eps ** 2 )) * (np.log(float(4 * (((2 * oldN) ** values) + 1)) / delta))\n",
    "\n",
    "    res.append(oldN)\n",
    "    oldN = 0\n",
    "    fake_res.append(values * 10)\n",
    "\n",
    "headers = ['vc dimension','rule of thumb','actual N']\n",
    "table = [[dvc[vals],fake_res[vals],res[vals]] for vals in range(len(dvc))]\n",
    "print(tabulate(table ,headers, tablefmt = 'github'))\n",
    "    "
   ]
  }
 ],
 "metadata": {
  "kernelspec": {
   "display_name": "Python 3.9.0 64-bit",
   "language": "python",
   "name": "python3"
  },
  "language_info": {
   "codemirror_mode": {
    "name": "ipython",
    "version": 3
   },
   "file_extension": ".py",
   "mimetype": "text/x-python",
   "name": "python",
   "nbconvert_exporter": "python",
   "pygments_lexer": "ipython3",
   "version": "3.9.0"
  },
  "orig_nbformat": 4,
  "vscode": {
   "interpreter": {
    "hash": "371f0d8b76de229da8650f374ceb97c81a343a7fe35b6fe9a060b6d9abbc1abd"
   }
  }
 },
 "nbformat": 4,
 "nbformat_minor": 2
}
